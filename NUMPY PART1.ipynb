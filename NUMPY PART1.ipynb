{
 "cells": [
  {
   "cell_type": "markdown",
   "id": "a613f623",
   "metadata": {},
   "source": [
    "### Author: Vaishnav Krishna P\n",
    "### THE NUMPY TUTORIAL PART01\n",
    "#### Source: numpy documentation"
   ]
  },
  {
   "cell_type": "code",
   "execution_count": 1,
   "id": "d6a20198",
   "metadata": {},
   "outputs": [],
   "source": [
    "# Importing the nmpy modules \n",
    "import numpy as np\n",
    "from numpy import pi"
   ]
  },
  {
   "cell_type": "markdown",
   "id": "d6bca470",
   "metadata": {},
   "source": [
    "#### CREATING NUMPY ARRAY"
   ]
  },
  {
   "cell_type": "code",
   "execution_count": 3,
   "id": "73d52bc2",
   "metadata": {},
   "outputs": [
    {
     "data": {
      "text/plain": [
       "array([1, 2, 3])"
      ]
     },
     "execution_count": 3,
     "metadata": {},
     "output_type": "execute_result"
    }
   ],
   "source": [
    "# Numpy 1D Array \n",
    "a = np.array((1,2,3))\n",
    "a"
   ]
  },
  {
   "cell_type": "code",
   "execution_count": 6,
   "id": "30bbd909",
   "metadata": {},
   "outputs": [
    {
     "data": {
      "text/plain": [
       "array([[1, 2, 3],\n",
       "       [4, 5, 6]])"
      ]
     },
     "execution_count": 6,
     "metadata": {},
     "output_type": "execute_result"
    }
   ],
   "source": [
    "# Numpy 2D array\n",
    "b = np.array(((1,2,3),(4,5,6)))\n",
    "b"
   ]
  },
  {
   "cell_type": "code",
   "execution_count": 11,
   "id": "f8237f30",
   "metadata": {},
   "outputs": [
    {
     "data": {
      "text/plain": [
       "array([[[ 1,  2,  3],\n",
       "        [ 4,  5,  6]],\n",
       "\n",
       "       [[ 7,  8,  9],\n",
       "        [ 9, 10, 11]]])"
      ]
     },
     "execution_count": 11,
     "metadata": {},
     "output_type": "execute_result"
    }
   ],
   "source": [
    "# Numpy 3D array creation\n",
    "c = np.array([[[1,2,3],[4,5,6]],[[7,8,9],[9,10,11]]])\n",
    "c"
   ]
  },
  {
   "cell_type": "markdown",
   "id": "bdc17829",
   "metadata": {},
   "source": [
    "### SOME ARTIBUES OF NUMPY MODULE \n",
    "1. ndim: Number of axes or dimensions of the array.\n",
    "2. shape: Dimensionality or shape of the array.\n",
    "3. size: Total number of elements in the array.\n",
    "4. dtype: Data type of the array elements.\n",
    "5. itemsize: Size in bits of a single array element.\n",
    "6. data: Buffer containing the actual elements of the array."
   ]
  },
  {
   "cell_type": "code",
   "execution_count": 16,
   "id": "d7ce327e",
   "metadata": {},
   "outputs": [
    {
     "name": "stdout",
     "output_type": "stream",
     "text": [
      "ndim of c: 3\n",
      "shape of c: (2, 2, 3)\n",
      "Size of c: 12\n",
      "dtype of c: int64\n",
      "itemsize of c: 8\n",
      "data of c: <memory at 0x7fddab0428b0>\n"
     ]
    }
   ],
   "source": [
    "# Lets check the atributes,\n",
    "print(f\"ndim of c: {c.ndim}\")\n",
    "print(f\"shape of c: {c.shape}\")\n",
    "print(f\"Size of c: {c.size}\")\n",
    "print(f\"dtype of c: {c.dtype}\")\n",
    "print(f\"itemsize of c: {c.itemsize}\")\n",
    "print(f\"data of c: {c.data}\")"
   ]
  },
  {
   "cell_type": "markdown",
   "id": "c17dfadc",
   "metadata": {},
   "source": [
    "### SOME METHODS IN THE NUMPY MODULE\n",
    "1. sum(): Returns the sum of all elements in the array.\n",
    "2. max(): Returns the maximum value in the array.\n",
    "3. min(): Returns the minimum value in the array.\n",
    "4. dot(): Performs matrix multiplication.\n",
    "5. cumsum(): Returns the cumulative sum of elements along a given axis.\n",
    "6. sin(), cos(), exp(), ...: Trigonometric and exponential functions.\n",
    "7. ones(): Returns a new array of given shape and type, filled with ones.\n",
    "8. zeros(): Returns a new array of given shape and type, filled with zeros.\n",
    "9. empty(): Returns a new array of given shape and type, without initializing entries.\n",
    "10. arange(): Returns evenly spaced values within a given interval.\n",
    "11. linspace(): Returns evenly spaced numbers over a specified interval.\n",
    "12. reshape(): Gives a new shape to an array without changing its data.\n",
    "13. type(): Returns the type of the object."
   ]
  },
  {
   "cell_type": "markdown",
   "id": "045bcbfb",
   "metadata": {},
   "source": [
    "#### RESHAPE AND ARANGE"
   ]
  },
  {
   "cell_type": "code",
   "execution_count": 47,
   "id": "3f2cdeaa",
   "metadata": {},
   "outputs": [
    {
     "name": "stdout",
     "output_type": "stream",
     "text": [
      "Type of x:  <class 'numpy.ndarray'>\n"
     ]
    },
    {
     "data": {
      "text/plain": [
       "array([1, 2, 3, 4, 5, 6, 7, 8])"
      ]
     },
     "execution_count": 47,
     "metadata": {},
     "output_type": "execute_result"
    }
   ],
   "source": [
    "# Arange\n",
    "x = np.arange(1,9,1)\n",
    "print(\"Type of x: \",type(x))\n",
    "x"
   ]
  },
  {
   "cell_type": "code",
   "execution_count": 54,
   "id": "1ebbe354",
   "metadata": {},
   "outputs": [
    {
     "data": {
      "text/plain": [
       "array([[1, 2],\n",
       "       [3, 4],\n",
       "       [5, 6],\n",
       "       [7, 8]])"
      ]
     },
     "execution_count": 54,
     "metadata": {},
     "output_type": "execute_result"
    }
   ],
   "source": [
    "# reshape\n",
    "x = x.reshape(4,2)\n",
    "x"
   ]
  },
  {
   "cell_type": "code",
   "execution_count": 56,
   "id": "b41bdfbd",
   "metadata": {},
   "outputs": [
    {
     "data": {
      "text/plain": [
       "array([[[1, 2],\n",
       "        [3, 4]],\n",
       "\n",
       "       [[5, 6],\n",
       "        [7, 8]]])"
      ]
     },
     "execution_count": 56,
     "metadata": {},
     "output_type": "execute_result"
    }
   ],
   "source": [
    "x = x.reshape(2,2,2)\n",
    "x"
   ]
  },
  {
   "cell_type": "markdown",
   "id": "e7a51ec0",
   "metadata": {},
   "source": [
    "#### SUM"
   ]
  },
  {
   "cell_type": "code",
   "execution_count": 61,
   "id": "51b9cd2e",
   "metadata": {},
   "outputs": [
    {
     "data": {
      "text/plain": [
       "array([[1, 2, 3],\n",
       "       [4, 5, 6]])"
      ]
     },
     "execution_count": 61,
     "metadata": {},
     "output_type": "execute_result"
    }
   ],
   "source": [
    "x = np.array([[1,2,3],[4,5,6]])\n",
    "x"
   ]
  },
  {
   "cell_type": "code",
   "execution_count": 62,
   "id": "80669faf",
   "metadata": {},
   "outputs": [
    {
     "data": {
      "text/plain": [
       "21"
      ]
     },
     "execution_count": 62,
     "metadata": {},
     "output_type": "execute_result"
    }
   ],
   "source": [
    "# sum of all the elements in the array\n",
    "x.sum()"
   ]
  },
  {
   "cell_type": "code",
   "execution_count": 63,
   "id": "35c69b77",
   "metadata": {},
   "outputs": [
    {
     "name": "stdout",
     "output_type": "stream",
     "text": [
      "[[1 2 3]\n",
      " [4 5 6]]\n"
     ]
    },
    {
     "data": {
      "text/plain": [
       "array([ 6, 15])"
      ]
     },
     "execution_count": 63,
     "metadata": {},
     "output_type": "execute_result"
    }
   ],
   "source": [
    "# sum in row wise\n",
    "print(x)\n",
    "x.sum(axis=1)"
   ]
  },
  {
   "cell_type": "code",
   "execution_count": 64,
   "id": "382a7e21",
   "metadata": {},
   "outputs": [
    {
     "data": {
      "text/plain": [
       "array([5, 7, 9])"
      ]
     },
     "execution_count": 64,
     "metadata": {},
     "output_type": "execute_result"
    }
   ],
   "source": [
    "x.sum(axis=0) # column wise sum"
   ]
  },
  {
   "cell_type": "markdown",
   "id": "d4027017",
   "metadata": {},
   "source": [
    "#### MAX"
   ]
  },
  {
   "cell_type": "code",
   "execution_count": 65,
   "id": "5a2a4d1b",
   "metadata": {},
   "outputs": [
    {
     "data": {
      "text/plain": [
       "6"
      ]
     },
     "execution_count": 65,
     "metadata": {},
     "output_type": "execute_result"
    }
   ],
   "source": [
    "x.max() # Maximum element in the entire array"
   ]
  },
  {
   "cell_type": "code",
   "execution_count": 66,
   "id": "467d5915",
   "metadata": {},
   "outputs": [
    {
     "data": {
      "text/plain": [
       "array([3, 6])"
      ]
     },
     "execution_count": 66,
     "metadata": {},
     "output_type": "execute_result"
    }
   ],
   "source": [
    "x.max(axis=1) # Row wise"
   ]
  },
  {
   "cell_type": "code",
   "execution_count": 68,
   "id": "5267ff26",
   "metadata": {},
   "outputs": [
    {
     "data": {
      "text/plain": [
       "array([4, 5, 6])"
      ]
     },
     "execution_count": 68,
     "metadata": {},
     "output_type": "execute_result"
    }
   ],
   "source": [
    "x.max(axis=0) # column wise"
   ]
  },
  {
   "cell_type": "markdown",
   "id": "de4176e1",
   "metadata": {},
   "source": [
    "#### MIN"
   ]
  },
  {
   "cell_type": "code",
   "execution_count": 69,
   "id": "ce4658a8",
   "metadata": {},
   "outputs": [
    {
     "data": {
      "text/plain": [
       "1"
      ]
     },
     "execution_count": 69,
     "metadata": {},
     "output_type": "execute_result"
    }
   ],
   "source": [
    "x.min()"
   ]
  },
  {
   "cell_type": "code",
   "execution_count": 70,
   "id": "4b2eb5fe",
   "metadata": {},
   "outputs": [
    {
     "data": {
      "text/plain": [
       "array([1, 4])"
      ]
     },
     "execution_count": 70,
     "metadata": {},
     "output_type": "execute_result"
    }
   ],
   "source": [
    "x.min(axis=1)"
   ]
  },
  {
   "cell_type": "code",
   "execution_count": 72,
   "id": "cebb2e8f",
   "metadata": {},
   "outputs": [
    {
     "data": {
      "text/plain": [
       "array([1, 2, 3])"
      ]
     },
     "execution_count": 72,
     "metadata": {},
     "output_type": "execute_result"
    }
   ],
   "source": [
    "x.min(axis=0)"
   ]
  },
  {
   "cell_type": "markdown",
   "id": "0762b472",
   "metadata": {},
   "source": [
    "#### DOT"
   ]
  },
  {
   "cell_type": "code",
   "execution_count": 77,
   "id": "d746a9c1",
   "metadata": {},
   "outputs": [],
   "source": [
    "a = np.array([[1,2,3],[4,5,6],[7,8,9]])\n",
    "b = np.array([[4,5,6],[6,7,8],[9,10,11]])"
   ]
  },
  {
   "cell_type": "code",
   "execution_count": 78,
   "id": "58cfb4b0",
   "metadata": {},
   "outputs": [
    {
     "data": {
      "text/plain": [
       "array([[ 43,  49,  55],\n",
       "       [100, 115, 130],\n",
       "       [157, 181, 205]])"
      ]
     },
     "execution_count": 78,
     "metadata": {},
     "output_type": "execute_result"
    }
   ],
   "source": [
    "# Lets perform matrix multiplication,\n",
    "np.dot(a, b)"
   ]
  },
  {
   "cell_type": "markdown",
   "id": "5d0e471d",
   "metadata": {},
   "source": [
    "#### CUMSUM"
   ]
  },
  {
   "cell_type": "code",
   "execution_count": 86,
   "id": "08d85729",
   "metadata": {},
   "outputs": [
    {
     "data": {
      "text/plain": [
       "array([[1, 2, 3],\n",
       "       [4, 5, 6],\n",
       "       [7, 8, 9]])"
      ]
     },
     "execution_count": 86,
     "metadata": {},
     "output_type": "execute_result"
    }
   ],
   "source": [
    "a = np.array([[1,2,3],[4,5,6],[7,8,9]])\n",
    "a"
   ]
  },
  {
   "cell_type": "code",
   "execution_count": 82,
   "id": "48736cf0",
   "metadata": {},
   "outputs": [
    {
     "data": {
      "text/plain": [
       "array([ 1,  3,  6, 10, 15, 21, 28, 36, 45])"
      ]
     },
     "execution_count": 82,
     "metadata": {},
     "output_type": "execute_result"
    }
   ],
   "source": [
    "a.cumsum() "
   ]
  },
  {
   "cell_type": "code",
   "execution_count": 83,
   "id": "c095a429",
   "metadata": {},
   "outputs": [
    {
     "data": {
      "text/plain": [
       "array([[ 1,  3,  6],\n",
       "       [ 4,  9, 15],\n",
       "       [ 7, 15, 24]])"
      ]
     },
     "execution_count": 83,
     "metadata": {},
     "output_type": "execute_result"
    }
   ],
   "source": [
    "a.cumsum(axis=1) # Row wise"
   ]
  },
  {
   "cell_type": "code",
   "execution_count": 85,
   "id": "00915533",
   "metadata": {},
   "outputs": [
    {
     "data": {
      "text/plain": [
       "array([[ 1,  2,  3],\n",
       "       [ 5,  7,  9],\n",
       "       [12, 15, 18]])"
      ]
     },
     "execution_count": 85,
     "metadata": {},
     "output_type": "execute_result"
    }
   ],
   "source": [
    "a.cumsum(axis=0) # coolumn wise"
   ]
  },
  {
   "cell_type": "markdown",
   "id": "7f2ed003",
   "metadata": {},
   "source": [
    "#### LINSPACE"
   ]
  },
  {
   "cell_type": "code",
   "execution_count": 88,
   "id": "c229b41f",
   "metadata": {},
   "outputs": [
    {
     "data": {
      "text/plain": [
       "array([0.        , 0.34906585, 0.6981317 , 1.04719755, 1.3962634 ,\n",
       "       1.74532925, 2.0943951 , 2.44346095, 2.7925268 , 3.14159265])"
      ]
     },
     "execution_count": 88,
     "metadata": {},
     "output_type": "execute_result"
    }
   ],
   "source": [
    "y = np.linspace(0,pi,10)\n",
    "y"
   ]
  },
  {
   "cell_type": "markdown",
   "id": "3a8d3474",
   "metadata": {},
   "source": [
    "#### MATHEMATICAL FUNCTIONS"
   ]
  },
  {
   "cell_type": "code",
   "execution_count": 90,
   "id": "4efcf8d8",
   "metadata": {},
   "outputs": [
    {
     "data": {
      "text/plain": [
       "array([0.00000000e+00, 3.42020143e-01, 6.42787610e-01, 8.66025404e-01,\n",
       "       9.84807753e-01, 9.84807753e-01, 8.66025404e-01, 6.42787610e-01,\n",
       "       3.42020143e-01, 1.22464680e-16])"
      ]
     },
     "execution_count": 90,
     "metadata": {},
     "output_type": "execute_result"
    }
   ],
   "source": [
    "np.sin(y)"
   ]
  },
  {
   "cell_type": "code",
   "execution_count": 91,
   "id": "9db4bdd1",
   "metadata": {},
   "outputs": [
    {
     "data": {
      "text/plain": [
       "array([ 1.        ,  0.93969262,  0.76604444,  0.5       ,  0.17364818,\n",
       "       -0.17364818, -0.5       , -0.76604444, -0.93969262, -1.        ])"
      ]
     },
     "execution_count": 91,
     "metadata": {},
     "output_type": "execute_result"
    }
   ],
   "source": [
    "np.cos(y)"
   ]
  },
  {
   "cell_type": "code",
   "execution_count": 94,
   "id": "fcb6a89d",
   "metadata": {},
   "outputs": [
    {
     "data": {
      "text/plain": [
       "array([ 1.        ,  1.41774255,  2.00999393,  2.84965391,  4.04007559,\n",
       "        5.72778705,  8.1205274 , 11.51281719, 16.32221075, 23.14069263])"
      ]
     },
     "execution_count": 94,
     "metadata": {},
     "output_type": "execute_result"
    }
   ],
   "source": [
    "np.exp(y)"
   ]
  },
  {
   "cell_type": "code",
   "execution_count": 95,
   "id": "c55adc62",
   "metadata": {},
   "outputs": [
    {
     "name": "stderr",
     "output_type": "stream",
     "text": [
      "/var/folders/15/6wmpjnb12xv6kx2m290xw72c0000gn/T/ipykernel_17230/3455148303.py:1: RuntimeWarning: divide by zero encountered in log\n",
      "  np.log(y)\n"
     ]
    },
    {
     "data": {
      "text/plain": [
       "array([       -inf, -1.05249469, -0.35934751,  0.0461176 ,  0.33379967,\n",
       "        0.55694322,  0.73926478,  0.89341546,  1.02694685,  1.14472989])"
      ]
     },
     "execution_count": 95,
     "metadata": {},
     "output_type": "execute_result"
    }
   ],
   "source": [
    "np.log(y)"
   ]
  },
  {
   "cell_type": "markdown",
   "id": "9151e73e",
   "metadata": {},
   "source": [
    "#### ONES,ZEROS,EMPTY"
   ]
  },
  {
   "cell_type": "code",
   "execution_count": 100,
   "id": "f26074ba",
   "metadata": {},
   "outputs": [
    {
     "data": {
      "text/plain": [
       "array([[1, 1, 1],\n",
       "       [1, 1, 1]], dtype=int16)"
      ]
     },
     "execution_count": 100,
     "metadata": {},
     "output_type": "execute_result"
    }
   ],
   "source": [
    "ones_array = np.ones((2,3), dtype=\"int16\")\n",
    "ones_array"
   ]
  },
  {
   "cell_type": "code",
   "execution_count": 103,
   "id": "67465851",
   "metadata": {},
   "outputs": [
    {
     "data": {
      "text/plain": [
       "array([[0., 0., 0., 0.],\n",
       "       [0., 0., 0., 0.],\n",
       "       [0., 0., 0., 0.]])"
      ]
     },
     "execution_count": 103,
     "metadata": {},
     "output_type": "execute_result"
    }
   ],
   "source": [
    "zeros_array = np.zeros((3,4)) # default dtype float64\n",
    "zeros_array"
   ]
  },
  {
   "cell_type": "code",
   "execution_count": 110,
   "id": "6e7808d2",
   "metadata": {},
   "outputs": [
    {
     "data": {
      "text/plain": [
       "array([[2.35541534e-312, 2.14321575e-312, 2.31297541e-312],\n",
       "       [2.05833592e-312, 2.56761491e-312, 2.05833592e-312],\n",
       "       [2.29175545e-312, 2.14321575e-312, 1.09924046e+295]])"
      ]
     },
     "execution_count": 110,
     "metadata": {},
     "output_type": "execute_result"
    }
   ],
   "source": [
    "empty_array = np.empty((3,3), dtype=\"float\") # used to create an array without initializing the entries of given shape and type.\n",
    "empty_array"
   ]
  }
 ],
 "metadata": {
  "kernelspec": {
   "display_name": "Python 3 (ipykernel)",
   "language": "python",
   "name": "python3"
  },
  "language_info": {
   "codemirror_mode": {
    "name": "ipython",
    "version": 3
   },
   "file_extension": ".py",
   "mimetype": "text/x-python",
   "name": "python",
   "nbconvert_exporter": "python",
   "pygments_lexer": "ipython3",
   "version": "3.9.13"
  }
 },
 "nbformat": 4,
 "nbformat_minor": 5
}
